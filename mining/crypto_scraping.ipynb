{
 "cells": [
  {
   "cell_type": "code",
   "execution_count": 1,
   "metadata": {},
   "outputs": [],
   "source": [
    "from crypto_scraper import *\n",
    "import json"
   ]
  },
  {
   "cell_type": "code",
   "execution_count": 2,
   "metadata": {},
   "outputs": [],
   "source": [
    "with open(\"../config.json\", \"r\") as f:\n",
    "    config = json.loads(f.read())  \n",
    "\n",
    "start_date = config[\"start_date\"]\n",
    "end_date = config[\"end_date\"]\n",
    "trading_pair = config[\"trading_pair\"]\n",
    "timeframe = config[\"timeframe\"]"
   ]
  },
  {
   "cell_type": "code",
   "execution_count": 3,
   "metadata": {},
   "outputs": [],
   "source": [
    "scraper = crypto_scraper(trading_pair, timeframe)"
   ]
  },
  {
   "cell_type": "code",
   "execution_count": 4,
   "metadata": {},
   "outputs": [
    {
     "name": "stdout",
     "output_type": "stream",
     "text": [
      "Start scraping  5m  ohlcv data from binance\n",
      "----------------------------------------------------------------------\n",
      "Start date:  2020-09-01 00:00:00  | End date:  2021-03-09 00:00:00\n",
      "---------------------------------------------------------------------- \n",
      "\n",
      "    Fetch data from 2020-09-02 13:00:00 to 2020-08-30 01:40:00\n",
      "\n",
      "----------------------------------------------------------------------\n",
      "Finished scraping\n",
      "Scraped  54341  rows of data\n",
      "----------------------------------------------------------------------\n"
     ]
    }
   ],
   "source": [
    "candles = scraper.scrape(start_date, end_date)"
   ]
  }
 ],
 "metadata": {
  "kernelspec": {
   "display_name": "venv",
   "language": "python",
   "name": "venv"
  },
  "language_info": {
   "codemirror_mode": {
    "name": "ipython",
    "version": 3
   },
   "file_extension": ".py",
   "mimetype": "text/x-python",
   "name": "python",
   "nbconvert_exporter": "python",
   "pygments_lexer": "ipython3",
   "version": "3.8.5"
  }
 },
 "nbformat": 4,
 "nbformat_minor": 4
}
